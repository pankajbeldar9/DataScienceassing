{
 "cells": [
  {
   "cell_type": "markdown",
   "id": "ef5b4bce",
   "metadata": {},
   "source": [
    "### Data Science Tools and Ecosystem"
   ]
  },
  {
   "cell_type": "markdown",
   "id": "81c5830b",
   "metadata": {},
   "source": [
    "In this notebook, Data Science Tools and Ecosystem are summarized"
   ]
  },
  {
   "cell_type": "markdown",
   "id": "aaf86458",
   "metadata": {},
   "source": [
    "### Objectives :\n",
    "* List popular languages that Data Scientists use.\n",
    "* List commonly used libraries used by Data Scientists.\n",
    "* Comment on Data Science tools."
   ]
  },
  {
   "cell_type": "markdown",
   "id": "862dfb31",
   "metadata": {},
   "source": [
    "#### languages use for Data scientists"
   ]
  },
  {
   "cell_type": "markdown",
   "id": "7cd125be",
   "metadata": {},
   "source": [
    "Python.\n",
    "R.\n",
    "SQL.\n",
    "Java."
   ]
  },
  {
   "cell_type": "markdown",
   "id": "da84f356",
   "metadata": {},
   "source": [
    "#### libraries used for Data scientist :"
   ]
  },
  {
   "cell_type": "code",
   "execution_count": null,
   "id": "daa89ae6",
   "metadata": {},
   "outputs": [],
   "source": [
    "NumPy.\n",
    "SciPy.\n",
    "Pandas.\n",
    "Matplotlib.\n",
    "SciKit-Learn.\n",
    "PyTorch.\n",
    "Scrapy.\n",
    "SciKit-Learn.\n",
    "PyTorch.\n",
    "Scrapy."
   ]
  },
  {
   "cell_type": "markdown",
   "id": "34a0e751",
   "metadata": {},
   "source": [
    "#### Data Science Tools"
   ]
  },
  {
   "cell_type": "markdown",
   "id": "ee31df09",
   "metadata": {},
   "source": [
    "| Data science tools |\n",
    "|--------------------|\n",
    "|   SAS              | \n",
    "|    Apache Spark    |\n",
    "|          BigML     | \n"
   ]
  },
  {
   "cell_type": "code",
   "execution_count": null,
   "id": "33012ebb",
   "metadata": {},
   "outputs": [],
   "source": [
    "#Arithmetic Expressions\n",
    "\n",
    "x = 48\n",
    "\n",
    "y = 12\n",
    "\n",
    "add = x + y\n",
    "\n",
    "sub = X - y\n",
    "\n",
    "pro = x * y\n",
    "\n",
    "div = x/y\n",
    "\n",
    "print(add)\n",
    "\n",
    "print(sub) print(pro)\n",
    "\n",
    "print(div)"
   ]
  },
  {
   "cell_type": "code",
   "execution_count": null,
   "id": "2bd260eb",
   "metadata": {},
   "outputs": [],
   "source": [
    "# This a simple arithmetic expression to mutiply then add integers\n",
    "\n",
    "(3*4)+5"
   ]
  },
  {
   "cell_type": "code",
   "execution_count": 13,
   "id": "c6f86df9",
   "metadata": {},
   "outputs": [
    {
     "name": "stdout",
     "output_type": "stream",
     "text": [
      "Enter time200\n",
      "3.3333333333333335\n"
     ]
    }
   ],
   "source": [
    "#this will convert 200 minutes to hours by diving by 60\n",
    "\n",
    "Time = float (input('Enter time')) \n",
    "print (Time/60)"
   ]
  },
  {
   "cell_type": "markdown",
   "id": "e7cb22f2",
   "metadata": {},
   "source": [
    "### Author: \n",
    "Pankaj Beldar"
   ]
  },
  {
   "cell_type": "code",
   "execution_count": null,
   "id": "191b2e48",
   "metadata": {},
   "outputs": [],
   "source": []
  },
  {
   "cell_type": "code",
   "execution_count": null,
   "id": "901a4b1d",
   "metadata": {},
   "outputs": [],
   "source": []
  }
 ],
 "metadata": {
  "kernelspec": {
   "display_name": "Python 3",
   "language": "python",
   "name": "python3"
  },
  "language_info": {
   "codemirror_mode": {
    "name": "ipython",
    "version": 3
   },
   "file_extension": ".py",
   "mimetype": "text/x-python",
   "name": "python",
   "nbconvert_exporter": "python",
   "pygments_lexer": "ipython3",
   "version": "3.8.8"
  }
 },
 "nbformat": 4,
 "nbformat_minor": 5
}
